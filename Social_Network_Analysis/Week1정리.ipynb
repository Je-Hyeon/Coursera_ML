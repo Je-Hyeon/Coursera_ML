{
 "cells": [
  {
   "cell_type": "code",
   "execution_count": 1,
   "metadata": {},
   "outputs": [],
   "source": [
    "import numpy as np \n",
    "import matplotlib.pyplot as plt\n",
    "import networkx as nx"
   ]
  },
  {
   "attachments": {},
   "cell_type": "markdown",
   "metadata": {},
   "source": [
    "# Network 만들기"
   ]
  },
  {
   "cell_type": "code",
   "execution_count": 3,
   "metadata": {},
   "outputs": [
    {
     "data": {
      "image/png": "[encoded data removed]",
      "text/plain": [
       "<Figure size 200x200 with 1 Axes>"
      ]
     },
     "metadata": {},
     "output_type": "display_data"
    }
   ],
   "source": [
    "# 가장 기본형\n",
    "G = nx.Graph() # 그래프 클래스 선언\n",
    "G.add_edge(\"A\",\"B\")\n",
    "G.add_edge(\"B\",\"C\")\n",
    "\n",
    "plt.figure(figsize=(2,2))\n",
    "nx.draw_networkx(G)"
   ]
  },
  {
   "cell_type": "code",
   "execution_count": 4,
   "metadata": {},
   "outputs": [
    {
     "data": {
      "image/png": "[encoded data removed]",
      "text/plain": [
       "<Figure size 200x200 with 1 Axes>"
      ]
     },
     "metadata": {},
     "output_type": "display_data"
    }
   ],
   "source": [
    "# Directed Network\n",
    "G = nx.DiGraph()\n",
    "G.add_edge(\"B\",\"A\")\n",
    "G.add_edge(\"B\",\"C\")\n",
    "\n",
    "plt.figure(figsize=(2,2))\n",
    "nx.draw_networkx(G)"
   ]
  },
  {
   "cell_type": "code",
   "execution_count": 12,
   "metadata": {},
   "outputs": [
    {
     "data": {
      "image/png": "[encoded data removed]",
      "text/plain": [
       "<Figure size 200x200 with 1 Axes>"
      ]
     },
     "metadata": {},
     "output_type": "display_data"
    }
   ],
   "source": [
    "# Weighted Network\n",
    "G = nx.Graph()\n",
    "G.add_edge(\"B\",\"A\", weight=6)  # 뒤 attr은 내가 원하는 이름 아무거나 줄 수 있는듯\n",
    "G.add_edge(\"B\",\"C\", weight=10) \n",
    "\n",
    "# edge의 weight가져오기\n",
    "weight = nx.get_edge_attributes(G, 'weight')\n",
    "# Node의 위치 저장\n",
    "pos = nx.spring_layout(G)\n",
    "\n",
    "plt.figure(figsize=(2,2))\n",
    "nx.draw(G, pos=pos, with_labels=True)\n",
    "nx.draw_networkx_edge_labels(G,pos=pos,edge_labels=weight);"
   ]
  },
  {
   "cell_type": "code",
   "execution_count": 16,
   "metadata": {},
   "outputs": [
    {
     "data": {
      "text/plain": [
       "0"
      ]
     },
     "execution_count": 16,
     "metadata": {},
     "output_type": "execute_result"
    }
   ],
   "source": [
    "# Mutigraphs\n",
    "\n",
    "G = nx.MultiGraph()\n",
    "G.add_edge(\"B\",\"A\", weight=10)  # 뒤 attr은 내가 원하는 이름 아무거나 줄 수 있는듯\n",
    "G.add_edge(\"B\",\"A\", weight=5)\n",
    "G.add_edge(\"A\",\"C\", weight=3)"
   ]
  },
  {
   "attachments": {},
   "cell_type": "markdown",
   "metadata": {},
   "source": [
    "# Bipartite Graphs"
   ]
  },
  {
   "cell_type": "code",
   "execution_count": 17,
   "metadata": {},
   "outputs": [],
   "source": [
    "from networkx.algorithms import bipartite\n",
    "\n",
    "B = nx.Graph()\n",
    "B.add_nodes_from([\"A\",\"B\",\"C\",\"D\",\"E\"], bipartite=0)\n",
    "B.add_nodes_from([1,2,3,4], bipartite=1)\n",
    "\n",
    "B.add_edges_from([(\"A\",1),(\"B\",1),\n",
    "                  (\"C\",1),(\"C\",3),\n",
    "                  (\"D\",2),(\"E\",3),\n",
    "                  (\"E\",4)])"
   ]
  },
  {
   "attachments": {},
   "cell_type": "markdown",
   "metadata": {},
   "source": [
    "# Projected Graphs"
   ]
  },
  {
   "cell_type": "code",
   "execution_count": 4,
   "metadata": {},
   "outputs": [],
   "source": [
    "from networkx.algorithms import bipartite\n",
    "\n",
    "B = nx.Graph()\n",
    "B.add_edges_from([(\"A\",1),(\"B\",1),\n",
    "                  (\"C\",1),(\"D\",1),\n",
    "                  (\"H\",1),(\"B\",2),\n",
    "                  (\"C\",2),(\"D\",2),\n",
    "                  (\"E\",2),(\"G\",2),\n",
    "                  (\"E\",3),(\"F\",3)])\n",
    "\n",
    "X = set([\"A\",\"B\",\"C\",\"D\",\"E\",\"F\",\"G\",\"H\"])\n",
    "P = bipartite.projected_graph(B,X)"
   ]
  },
  {
   "cell_type": "code",
   "execution_count": 5,
   "metadata": {},
   "outputs": [],
   "source": [
    "# weighted\n",
    "\n",
    "X = set([1,2,3])\n",
    "P = bipartite.weighted_projected_graph(B,X)"
   ]
  }
 ],
 "metadata": {
  "kernelspec": {
   "display_name": "base",
   "language": "python",
   "name": "python3"
  },
  "language_info": {
   "codemirror_mode": {
    "name": "ipython",
    "version": 3
   },
   "file_extension": ".py",
   "mimetype": "text/x-python",
   "name": "python",
   "nbconvert_exporter": "python",
   "pygments_lexer": "ipython3",
   "version": "3.9.13"
  },
  "orig_nbformat": 4,
  "vscode": {
   "interpreter": {
    "hash": "a077222d77dfe082b8f1dd562ad70e458ac2ab76993a0b248ab0476e32e9e8dd"
   }
  }
 },
 "nbformat": 4,
 "nbformat_minor": 2
}
