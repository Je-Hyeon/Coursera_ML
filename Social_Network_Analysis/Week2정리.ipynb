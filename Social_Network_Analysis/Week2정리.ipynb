{
 "cells": [
  {
   "cell_type": "code",
   "execution_count": 3,
   "metadata": {},
   "outputs": [],
   "source": [
    "import numpy as np \n",
    "import pandas as pd \n",
    "import matplotlib.pyplot as plt\n",
    "import networkx as nx"
   ]
  },
  {
   "cell_type": "code",
   "execution_count": 6,
   "metadata": {},
   "outputs": [
    {
     "data": {
      "image/png": "[encoded data removed]",
      "text/plain": [
       "<Figure size 300x300 with 1 Axes>"
      ]
     },
     "metadata": {},
     "output_type": "display_data"
    }
   ],
   "source": [
    "G = nx.Graph()\n",
    "G.add_edges_from([('A', 'K'), ('A', 'B'), ('A', 'C'), ('B', 'C'), ('B', 'K'), \n",
    "('C', 'E'), ('C', 'F'), ('D', 'E'), ('E', 'F'), ('E', 'H'), ('F', 'G'), ('I', 'J')])\n",
    "\n",
    "plt.figure(figsize=(3,3))\n",
    "nx.draw_networkx(G)"
   ]
  },
  {
   "attachments": {},
   "cell_type": "markdown",
   "metadata": {},
   "source": [
    "# Triadic Closure\n",
    "\n",
    "개별 Node의 연결성은 Local Clustering Coefficient로 측정한다 (삼각형을 형성하는 경향을 측정한다)\n",
    "\n",
    "---\n",
    "\n",
    "Whole network에 대한 측정은 두가지 방식이 있다\n",
    "\n",
    "    1. 모든 노드에 대해 LCC를 평균\n",
    "\n",
    "    2. Network의 triangles에서 \"open triads\"의 퍼센트 계산하기 (Transitivity라고 부른다)\n",
    "\n",
    "Transitivity는 높은 degree(이웃)를 가진 노드에 weight를 부여한다\n"
   ]
  },
  {
   "cell_type": "code",
   "execution_count": 9,
   "metadata": {},
   "outputs": [
    {
     "data": {
      "text/plain": [
       "(0.3333333333333333, 0.6666666666666666)"
      ]
     },
     "execution_count": 9,
     "metadata": {},
     "output_type": "execute_result"
    }
   ],
   "source": [
    "# 개별 Node의 LCC구하기 (F,A)\n",
    "nx.clustering(G,\"F\") , nx.clustering(G,\"A\")"
   ]
  },
  {
   "cell_type": "code",
   "execution_count": 12,
   "metadata": {},
   "outputs": [
    {
     "data": {
      "text/plain": [
       "0.28787878787878785"
      ]
     },
     "execution_count": 12,
     "metadata": {},
     "output_type": "execute_result"
    }
   ],
   "source": [
    "# Average local clustering coefficient\n",
    "nx.average_clustering(G)"
   ]
  },
  {
   "cell_type": "code",
   "execution_count": 11,
   "metadata": {},
   "outputs": [
    {
     "data": {
      "text/plain": [
       "0.4090909090909091"
      ]
     },
     "execution_count": 11,
     "metadata": {},
     "output_type": "execute_result"
    }
   ],
   "source": [
    "# Transitivity \n",
    "nx.transitivity(G)"
   ]
  },
  {
   "attachments": {},
   "cell_type": "markdown",
   "metadata": {},
   "source": [
    "# Distance & Path\n",
    "\n",
    "Breath-First Search : 트리를 만들면서 아직 발견하지 못한 Node로 가지를 치면서 내려간다\n",
    "\n",
    "---\n",
    "**거리측정 Metric**\n",
    "\n",
    "Average distance : 모든 노드 사이의 평균 거리\n",
    "\n",
    "Diameter : 노드 쌍 사이의 가능한 최대 거리\n",
    "\n",
    "Eccentricity : 각 노드에서 가능한 최대 거리\n",
    "\n",
    "Radius : 그래프에서 최소 Eccentricity\n",
    "\n",
    "Periphercy : Eccentricity가 diameter과 같은 노드 (가장 외곽에 위치한 노드라고 직관적 해석 가능)\n",
    "\n",
    "Center : Eccentricity가 Radius와 같은 노드 (중심이라고 해석 가능)"
   ]
  },
  {
   "cell_type": "code",
   "execution_count": 16,
   "metadata": {},
   "outputs": [],
   "source": [
    "# 사용할 그래프 생성\n",
    "G = nx.Graph()\n",
    "G.add_edges_from([('A', 'K'), ('A', 'B'), ('B', 'K'), ('B', 'C'),  \n",
    "('C', 'E'), ('C', 'F'), ('D', 'E'), ('E', 'F'), ('E', 'H'), (\"E\",\"I\"), ('F', 'G'), ('I', 'J')])"
   ]
  },
  {
   "cell_type": "code",
   "execution_count": 26,
   "metadata": {},
   "outputs": [
    {
     "name": "stdout",
     "output_type": "stream",
     "text": [
      "[('A', 'K'), ('A', 'B'), ('B', 'C'), ('C', 'E'), ('C', 'F'), ('E', 'D'), ('E', 'H'), ('E', 'I'), ('F', 'G'), ('I', 'J')]\n"
     ]
    },
    {
     "data": {
      "text/plain": [
       "{'A': 0,\n",
       " 'K': 1,\n",
       " 'B': 1,\n",
       " 'C': 2,\n",
       " 'F': 3,\n",
       " 'E': 3,\n",
       " 'I': 4,\n",
       " 'D': 4,\n",
       " 'G': 4,\n",
       " 'H': 4,\n",
       " 'J': 5}"
      ]
     },
     "execution_count": 26,
     "metadata": {},
     "output_type": "execute_result"
    }
   ],
   "source": [
    "# Breath-First Search\n",
    "T = nx.bfs_tree(G,\"A\")\n",
    "\n",
    "print(T.edges())\n",
    "\n",
    "nx.shortest_path_length(T,\"A\")"
   ]
  },
  {
   "cell_type": "code",
   "execution_count": 24,
   "metadata": {},
   "outputs": [
    {
     "data": {
      "image/png": "[encoded data removed]",
      "text/plain": [
       "<Figure size 300x300 with 1 Axes>"
      ]
     },
     "metadata": {},
     "output_type": "display_data"
    }
   ],
   "source": [
    "# 찾은 트리 그려보기\n",
    "plt.figure(figsize=(3,3))\n",
    "\n",
    "pos = nx.spring_layout(G)   #layout은 노드 위치를 정할 알고리즘을 구하는 것임\n",
    "nx.draw_networkx(T, pos=pos)"
   ]
  },
  {
   "cell_type": "code",
   "execution_count": 27,
   "metadata": {},
   "outputs": [
    {
     "data": {
      "text/plain": [
       "2.5272727272727273"
      ]
     },
     "execution_count": 27,
     "metadata": {},
     "output_type": "execute_result"
    }
   ],
   "source": [
    "# Average Distance\n",
    "nx.average_shortest_path_length(G)"
   ]
  },
  {
   "cell_type": "code",
   "execution_count": null,
   "metadata": {},
   "outputs": [],
   "source": [
    "# Eccentricity\n",
    "nx.eccentricity(G)"
   ]
  },
  {
   "cell_type": "code",
   "execution_count": 32,
   "metadata": {},
   "outputs": [
    {
     "data": {
      "text/plain": [
       "(5, 3)"
      ]
     },
     "execution_count": 32,
     "metadata": {},
     "output_type": "execute_result"
    }
   ],
   "source": [
    "# Diameter       # radius\n",
    "nx.diameter(G) , nx.radius(G)"
   ]
  },
  {
   "cell_type": "code",
   "execution_count": 33,
   "metadata": {},
   "outputs": [
    {
     "data": {
      "text/plain": [
       "(['A', 'K', 'J'], ['C', 'E', 'F'])"
      ]
     },
     "execution_count": 33,
     "metadata": {},
     "output_type": "execute_result"
    }
   ],
   "source": [
    "# Periphery      # center\n",
    "nx.periphery(G), nx.center(G)"
   ]
  },
  {
   "attachments": {},
   "cell_type": "markdown",
   "metadata": {},
   "source": [
    "# Connectivity\n",
    "\n",
    "Undirected인 경우 : 그냥 연결성 따진다\n",
    "\n",
    "Directed인 경우 : Strong, Weak가 있다"
   ]
  },
  {
   "cell_type": "code",
   "execution_count": 43,
   "metadata": {},
   "outputs": [
    {
     "data": {
      "image/png": "[encoded data removed]",
      "text/plain": [
       "<Figure size 300x300 with 1 Axes>"
      ]
     },
     "metadata": {},
     "output_type": "display_data"
    }
   ],
   "source": [
    "# 사용할 그래프 생성\n",
    "G = nx.Graph()\n",
    "G.add_edges_from([('A', 'K'), ('A', 'B'), ('A', 'C'), ('B', 'C'), ('B', 'K'), \n",
    "('C', 'E'), ('C', 'F'), ('D', 'E'), ('E', 'F'), ('E', 'H'), ('F', 'G'), ('I', 'J')])\n",
    "\n",
    "plt.figure(figsize=(3,3))\n",
    "nx.draw_networkx(G)"
   ]
  },
  {
   "cell_type": "code",
   "execution_count": 41,
   "metadata": {},
   "outputs": [
    {
     "data": {
      "text/plain": [
       "False"
      ]
     },
     "execution_count": 41,
     "metadata": {},
     "output_type": "execute_result"
    }
   ],
   "source": [
    "nx.is_connected(G)"
   ]
  },
  {
   "cell_type": "code",
   "execution_count": 44,
   "metadata": {},
   "outputs": [
    {
     "data": {
      "text/plain": [
       "2"
      ]
     },
     "execution_count": 44,
     "metadata": {},
     "output_type": "execute_result"
    }
   ],
   "source": [
    "# 연결된 군집이 몇개인가\n",
    "nx.number_connected_components(G)"
   ]
  },
  {
   "cell_type": "code",
   "execution_count": 45,
   "metadata": {},
   "outputs": [
    {
     "data": {
      "text/plain": [
       "[{'A', 'B', 'C', 'D', 'E', 'F', 'G', 'H', 'K'}, {'I', 'J'}]"
      ]
     },
     "execution_count": 45,
     "metadata": {},
     "output_type": "execute_result"
    }
   ],
   "source": [
    "# 연결된 군집의 Node 출력\n",
    "sorted(nx.connected_components(G))"
   ]
  },
  {
   "cell_type": "code",
   "execution_count": 47,
   "metadata": {},
   "outputs": [
    {
     "data": {
      "text/plain": [
       "{'I', 'J'}"
      ]
     },
     "execution_count": 47,
     "metadata": {},
     "output_type": "execute_result"
    }
   ],
   "source": [
    "nx.node_connected_component(G,\"I\")"
   ]
  },
  {
   "cell_type": "code",
   "execution_count": 48,
   "metadata": {},
   "outputs": [],
   "source": [
    "#nx.is_strongly_connected(G)\n",
    "#nx.is_weakly_connected(G)\n",
    "\n",
    "#nx.strongly_connected_components(G)\n",
    "#nx.weakly_connected_components(G)"
   ]
  },
  {
   "attachments": {},
   "cell_type": "markdown",
   "metadata": {},
   "source": [
    "# Robustness in Networks\n",
    "\n",
    "Node나 Edge가 사라지는 Attack이 있을 때, Network가 연결성을 유지할 경우 Robust하다고 한다\n",
    "\n",
    "* 예시) 특정 공항이 문을 닫는 경우"
   ]
  },
  {
   "cell_type": "code",
   "execution_count": 50,
   "metadata": {},
   "outputs": [],
   "source": [
    "# 사용할 그래프 생성\n",
    "G = nx.Graph()\n",
    "G.add_edges_from([('A', 'K'), ('A', 'B'), ('B', 'K'), ('B', 'C'),  \n",
    "('C', 'E'), ('C', 'F'), ('D', 'E'), ('E', 'F'), ('E', 'H'), (\"E\",\"I\"), ('F', 'G'), ('I', 'J')])"
   ]
  },
  {
   "cell_type": "code",
   "execution_count": 53,
   "metadata": {},
   "outputs": [
    {
     "name": "stdout",
     "output_type": "stream",
     "text": [
      "1\n"
     ]
    },
    {
     "data": {
      "text/plain": [
       "{('E', 'I')}"
      ]
     },
     "execution_count": 53,
     "metadata": {},
     "output_type": "execute_result"
    }
   ],
   "source": [
    "# 몇개의 edge를 없애면 연결성이 사라지는가\n",
    "print(nx.edge_connectivity(G))\n",
    "\n",
    "# 무슨 edge\n",
    "nx.minimum_edge_cut(G)"
   ]
  },
  {
   "cell_type": "code",
   "execution_count": 57,
   "metadata": {},
   "outputs": [
    {
     "name": "stdout",
     "output_type": "stream",
     "text": [
      "1\n"
     ]
    },
    {
     "data": {
      "text/plain": [
       "{'I'}"
      ]
     },
     "execution_count": 57,
     "metadata": {},
     "output_type": "execute_result"
    }
   ],
   "source": [
    "# 몇개의 Node를 없애면 연결성이 사라지는가\n",
    "print(nx.node_connectivity(G))\n",
    "\n",
    "# 무슨 Node\n",
    "nx.minimum_node_cut(G)"
   ]
  },
  {
   "attachments": {},
   "cell_type": "markdown",
   "metadata": {},
   "source": [
    "# Simple Paths\n",
    "\n",
    "특정 노드에서 특정 노드로 Message를 전달하고자 할 떄, 가질 수 있는 paths"
   ]
  },
  {
   "cell_type": "code",
   "execution_count": null,
   "metadata": {},
   "outputs": [],
   "source": [
    "# sorted(nx.all_simple_paths(G,\"노드1\",\"노드2\"))"
   ]
  }
 ],
 "metadata": {
  "kernelspec": {
   "display_name": "base",
   "language": "python",
   "name": "python3"
  },
  "language_info": {
   "codemirror_mode": {
    "name": "ipython",
    "version": 3
   },
   "file_extension": ".py",
   "mimetype": "text/x-python",
   "name": "python",
   "nbconvert_exporter": "python",
   "pygments_lexer": "ipython3",
   "version": "3.9.13"
  },
  "orig_nbformat": 4,
  "vscode": {
   "interpreter": {
    "hash": "a077222d77dfe082b8f1dd562ad70e458ac2ab76993a0b248ab0476e32e9e8dd"
   }
  }
 },
 "nbformat": 4,
 "nbformat_minor": 2
}
