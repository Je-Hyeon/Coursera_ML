{
 "cells": [
  {
   "cell_type": "code",
   "execution_count": 1,
   "metadata": {},
   "outputs": [],
   "source": [
    "import numpy as np \n",
    "import pandas as pd \n",
    "import matplotlib.pyplot as plt \n",
    "import networkx as nx"
   ]
  },
  {
   "cell_type": "code",
   "execution_count": 4,
   "metadata": {},
   "outputs": [],
   "source": [
    "# 사용할 데이터 불러오기 -> 카라테 클럽 friendship network\n",
    "G = nx.karate_club_graph()\n",
    "G = nx.convert_node_labels_to_integers(G, first_label=1)"
   ]
  },
  {
   "attachments": {},
   "cell_type": "markdown",
   "metadata": {},
   "source": [
    "# Node Importance\n",
    "\n",
    "Network Centrality란, Network에서 중요한 Node를 판정하는 것이다\n",
    "\n",
    "Network Centrality에는 여러 기준이 있다\n",
    "\n",
    "* Degree Centrality : 이웃(Degree)의 수로 Centrality를 따진다  (1이면 가장 중요, 0이면 안 중요) / Directed, Undirected(in-degree방식과 out-degree방식)\n",
    "\n",
    "* Closeness Centrality : 모든 Node들의 조합에서 가장 가까운 Path를 찾고, 그 Path에 특정 노드가 몇 번 포함되는 지 계산, 많이 포함되면 중요한 노드\n",
    "\n",
    "* Betweenness Centrality : s와 v를 지나가는 최단 paht에서, 구하고자 하는 특정 노드가 몇번 포함되는지 비율을 따진다 (Endpoint로 구하는 점을 포함하는 경우/ 포함하지 않는 경우)\n",
    "\n",
    "* Page Rank : Randomwalk를 따라 Network를 돌아다닐 경우, 어떤 Node에 위치하게 될 지를 나타낸다\n",
    "\n",
    "* Hub와 Authority : HITS 알고리즘으로 업데이트 해나간다"
   ]
  },
  {
   "cell_type": "code",
   "execution_count": 7,
   "metadata": {},
   "outputs": [
    {
     "data": {
      "text/plain": [
       "0.5151515151515151"
      ]
     },
     "execution_count": 7,
     "metadata": {},
     "output_type": "execute_result"
    }
   ],
   "source": [
    "# Degree Centrality (Undirected Network)\n",
    "degCent = nx.degree_centrality(G)\n",
    "degCent[34] # 34번 노드의 Degree centrality를 확인"
   ]
  },
  {
   "cell_type": "code",
   "execution_count": 9,
   "metadata": {},
   "outputs": [],
   "source": [
    "# Degree Centrality (Directed Network)\n",
    "#indegCent = nx.in_degree_centrality(G) / nx.out_degree_centrality(G)"
   ]
  },
  {
   "cell_type": "code",
   "execution_count": 13,
   "metadata": {},
   "outputs": [
    {
     "name": "stdout",
     "output_type": "stream",
     "text": [
      "0.5409836065573771\n"
     ]
    },
    {
     "data": {
      "text/plain": [
       "0.5409836065573771"
      ]
     },
     "execution_count": 13,
     "metadata": {},
     "output_type": "execute_result"
    }
   ],
   "source": [
    "# Closeness Centrality\n",
    "closeCent = nx.closeness_centrality(G)\n",
    "print(closeCent[32])\n",
    "\n",
    "# 직접 Closeness Centrality를 계산해보자\n",
    "sum_ = sum(nx.shortest_path_length(G,32).values())\n",
    "(len(G.nodes()) -1) / sum_ # 전체노드 수 -1 을 -> v에서 u로 가는 가장 짧은 노드로 나눈다"
   ]
  },
  {
   "cell_type": "code",
   "execution_count": 14,
   "metadata": {},
   "outputs": [],
   "source": [
    "# Disconnected인 경우 closness centrality를 측정하기 (Directed Graph인 경우...)\n",
    "\n",
    "# Option 1 : 연결된 것만 고려 (직관에 부합하는 값이 아님)\n",
    "# nx.closeness_centrality(G, normalized=False)\n",
    "\n",
    "# Option 2 : 연결되지 않은 것도 고려해서, 그 비율로 정규화한 경우 (직관에 부합하는 값)\n",
    "# nx.closeness_centrality(G, normalized=True)"
   ]
  },
  {
   "cell_type": "code",
   "execution_count": 17,
   "metadata": {},
   "outputs": [
    {
     "data": {
      "text/plain": [
       "[(1, 0.43763528138528146),\n",
       " (34, 0.30407497594997596),\n",
       " (33, 0.145247113997114),\n",
       " (3, 0.14365680615680618),\n",
       " (32, 0.13827561327561325)]"
      ]
     },
     "execution_count": 17,
     "metadata": {},
     "output_type": "execute_result"
    }
   ],
   "source": [
    "# Betweenness Centrality\n",
    "# noramlized = Network의 사이즈가 다르면 값이 달라지기 때문에, 다른 Network간의 값을 비교하기 위해서 필요하다\n",
    "# endpoints = 값을 구하는 해당 노드를 계산에 포함시킬지 뺄지를 결정한다\n",
    "# k = 모든 점에 대해 구하면, 계산량이 많이 들기 때문에, k로 사용할 노드를 한정해서 값을 근사할 수 있다\n",
    "import operator\n",
    "\n",
    "btwnCent = nx.betweenness_centrality(G, normalized=True, endpoints=False)\n",
    "sorted(btwnCent.items(), key=operator.itemgetter(1),reverse=True)[0:5]"
   ]
  },
  {
   "cell_type": "code",
   "execution_count": 18,
   "metadata": {},
   "outputs": [
    {
     "data": {
      "text/plain": [
       "[(1, 0.04899515993265994),\n",
       " (34, 0.028807419432419434),\n",
       " (3, 0.018368205868205867),\n",
       " (33, 0.01664712602212602),\n",
       " (9, 0.014519450456950456)]"
      ]
     },
     "execution_count": 18,
     "metadata": {},
     "output_type": "execute_result"
    }
   ],
   "source": [
    "# Betweenness Centrality (Subset)\n",
    "# s와t를 선택할 때, 주어진 집합에서만 선택하여 계산한다\n",
    "\n",
    "btwnCent_subset = nx.betweenness_centrality_subset(G, [34,33,21,30,16,27,15,23,10],\n",
    "                                                   [1,4,13,11,6,12,17,7], normalized=True)\n",
    "\n",
    "sorted(btwnCent_subset.items(), key=operator.itemgetter(1), reverse=True)[0:5]"
   ]
  },
  {
   "cell_type": "code",
   "execution_count": 25,
   "metadata": {},
   "outputs": [],
   "source": [
    "# Betweenness Centrality (Edges로 계산)\n",
    "btwnCent_edge = nx.edge_betweenness_centrality(G, normalized=True)\n",
    "btwnCent_edge_subset = nx.edge_betweenness_centrality_subset(G, [34,33,21,30,16,27,15,23,10],\n",
    "                                                             [1,4,13,11,6,12,17,7],\n",
    "                                                             normalized=True)"
   ]
  },
  {
   "cell_type": "code",
   "execution_count": null,
   "metadata": {},
   "outputs": [],
   "source": [
    "# Page Rank (alpha는 특정 Node에 Stuck 되는 걸 막기 위해서, 주는 확률이다 1-alpha가 점프 확률)\n",
    "# nx.pagerank(G, alpha=0.8) "
   ]
  },
  {
   "cell_type": "code",
   "execution_count": null,
   "metadata": {},
   "outputs": [],
   "source": [
    "# Hub and Authority Score\n",
    "# nx.hits(G) -> 딕셔너리를 리턴"
   ]
  }
 ],
 "metadata": {
  "kernelspec": {
   "display_name": "base",
   "language": "python",
   "name": "python3"
  },
  "language_info": {
   "codemirror_mode": {
    "name": "ipython",
    "version": 3
   },
   "file_extension": ".py",
   "mimetype": "text/x-python",
   "name": "python",
   "nbconvert_exporter": "python",
   "pygments_lexer": "ipython3",
   "version": "3.9.13"
  },
  "orig_nbformat": 4,
  "vscode": {
   "interpreter": {
    "hash": "a077222d77dfe082b8f1dd562ad70e458ac2ab76993a0b248ab0476e32e9e8dd"
   }
  }
 },
 "nbformat": 4,
 "nbformat_minor": 2
}
